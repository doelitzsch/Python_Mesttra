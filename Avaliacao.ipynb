{
 "cells": [
  {
   "cell_type": "markdown",
   "id": "97a8113a",
   "metadata": {},
   "source": [
    "# Avaliação\n",
    "\n",
    "1. Crie uma função que recebe uma lista e retorna o valor máximo e mínimo da lista (não utilize a função max() e min()).\n",
    "2. Crie uma função que recebe dois parâmetros (início e fim) e retorna uma lista com todos os valores pares entre ínicio e fim.\n",
    "3. Acesse a nota de matemática em dc3 e altere para 3.\n",
    "\n",
    "Para as questões 4 a 8 utilize o dataset 'water_potability.csv'. O dataset descreve características de uma amostra de água e na coluna 'potability' descreve se a água é ou não própria para consumo humano. Para iniciar a resolução das questões abaixo drope a coluna 'Unnamed: 0'.\n",
    "\n",
    "4. Demonstre a correlação entre todas as colunas do dataset. Qual é a coluna com maior correlação positiva com 'potability'? Desconsidere a correlação com ela mesma (valor 1.0).\n",
    "5. Crie uma série que descreve (em porcentagem) quanto cada coluna tem de valores nulos. Qual a coluna com maior porcentagem de valores nulos?\n",
    "6. Crie uma coluna dentro do dataset que descreve se 'Turbidity' está acima ou abaixo da média.\n",
    "7. Quantas amostras de água são potáveis e não potáveis, utilize a coluna criada na questão 6 como dimensão de análise.\n",
    "8. Crie um dataframe onde o índice deve ser cada estado e com duas colunas. A primeira é a porcentagem de amostras não potáveis naquele estado e a segunda é a porcentagem de amostras potáveis naquele estado. Qual é o estado com a menor porcentagem de amostras de água potável?\n",
    "9. Utlizando dados coletados da internet sobre a quantidade de habitantes de cada estado no ano 2020 responda. Qual estado, com populacao acima de 10 milhões de habitantes, tem a maior porcentagem de amostras de águas não potável?\n",
    "10. Crie o dicionário dc_states contendo como chaves os nomes de cada estado e como valor uma lista contendo o zscore aplicado a coluna \"Solids\" de todas as amostras daquele respectivo estado. Passe para função violin_plot_states o dicionário e uma lista contendo 5 estados que gostaria de análisar. Faça uma análise sucinta do resultado do gráfico."
   ]
  },
  {
   "cell_type": "code",
   "execution_count": 2,
   "id": "3f7ef2cc",
   "metadata": {},
   "outputs": [],
   "source": [
    "dc3 = { \n",
    "   \"turma\":{ \n",
    "      \"aluno\":{ \n",
    "         \"nome\":\"Joao\",\n",
    "         \"notas\":{ \n",
    "            \"portugues\":2,\n",
    "            \"matematica\":9\n",
    "         }\n",
    "      }\n",
    "   }\n",
    "}\n",
    "\n",
    "import matplotlib.pyplot as plt\n",
    "import seaborn as sns\n",
    "\n",
    "def violin_plot_states(dc_states,lista_estados):\n",
    "    f, ax = plt.subplots(1,1,figsize=(16,4))\n",
    "    data_plot = pd.DataFrame.from_dict(dc_states,orient='index').T.melt().rename(columns={'variable':'state','value':'z_score'})\n",
    "    states_plot = lista_estados\n",
    "    sns.violinplot(x='state',y='z_score',data=data_plot[data_plot.state.isin(states_plot)])    \n",
    "    ax.axhline(0,color='black',alpha=0.3)"
   ]
  },
  {
   "cell_type": "code",
   "execution_count": 9,
   "id": "b0787485",
   "metadata": {
    "ExecuteTime": {
     "end_time": "2021-08-05T01:48:15.025301Z",
     "start_time": "2021-08-05T01:48:15.019316Z"
    }
   },
   "outputs": [],
   "source": [
    "def lista_min_max(lista):\n",
    "   \n",
    "    lista = lista.sort()\n",
    "  \n",
    "    return lista\n",
    "    #return aq"
   ]
  },
  {
   "cell_type": "code",
   "execution_count": 22,
   "id": "43092f78",
   "metadata": {
    "ExecuteTime": {
     "end_time": "2021-08-05T02:00:28.771380Z",
     "start_time": "2021-08-05T02:00:28.167994Z"
    }
   },
   "outputs": [
    {
     "ename": "TypeError",
     "evalue": "'NoneType' object is not subscriptable",
     "output_type": "error",
     "traceback": [
      "\u001b[1;31m---------------------------------------------------------------------------\u001b[0m",
      "\u001b[1;31mTypeError\u001b[0m                                 Traceback (most recent call last)",
      "\u001b[1;32m<ipython-input-22-505899867803>\u001b[0m in \u001b[0;36m<module>\u001b[1;34m\u001b[0m\n\u001b[0;32m      1\u001b[0m \u001b[1;32mimport\u001b[0m \u001b[0mnumpy\u001b[0m \u001b[1;32mas\u001b[0m \u001b[0mnp\u001b[0m\u001b[1;33m\u001b[0m\u001b[1;33m\u001b[0m\u001b[0m\n\u001b[0;32m      2\u001b[0m \u001b[0mteste\u001b[0m \u001b[1;33m=\u001b[0m \u001b[1;33m[\u001b[0m\u001b[1;36m2\u001b[0m\u001b[1;33m,\u001b[0m\u001b[1;36m4\u001b[0m\u001b[1;33m,\u001b[0m\u001b[1;36m6\u001b[0m\u001b[1;33m,\u001b[0m\u001b[1;36m12\u001b[0m\u001b[1;33m,\u001b[0m\u001b[1;36m31\u001b[0m\u001b[1;33m,\u001b[0m\u001b[1;36m54\u001b[0m\u001b[1;33m,\u001b[0m\u001b[1;36m1\u001b[0m\u001b[1;33m,\u001b[0m\u001b[1;36m8\u001b[0m\u001b[1;33m,\u001b[0m\u001b[1;36m11\u001b[0m\u001b[1;33m,\u001b[0m\u001b[1;36m65\u001b[0m\u001b[1;33m,\u001b[0m\u001b[1;36m87\u001b[0m\u001b[1;33m]\u001b[0m\u001b[1;33m\u001b[0m\u001b[1;33m\u001b[0m\u001b[0m\n\u001b[1;32m----> 3\u001b[1;33m \u001b[0mlista_min_max\u001b[0m\u001b[1;33m(\u001b[0m\u001b[0mteste\u001b[0m\u001b[1;33m)\u001b[0m\u001b[1;33m\u001b[0m\u001b[1;33m\u001b[0m\u001b[0m\n\u001b[0m",
      "\u001b[1;32m<ipython-input-21-ea72f52617d7>\u001b[0m in \u001b[0;36mlista_min_max\u001b[1;34m(lista)\u001b[0m\n\u001b[0;32m      3\u001b[0m     \u001b[0mlista_ajustada\u001b[0m \u001b[1;33m=\u001b[0m \u001b[0mlista\u001b[0m\u001b[1;33m.\u001b[0m\u001b[0msort\u001b[0m\u001b[1;33m(\u001b[0m\u001b[1;33m)\u001b[0m\u001b[1;33m\u001b[0m\u001b[1;33m\u001b[0m\u001b[0m\n\u001b[0;32m      4\u001b[0m     \u001b[0mminimo\u001b[0m \u001b[1;33m=\u001b[0m \u001b[1;34m''\u001b[0m\u001b[1;33m\u001b[0m\u001b[1;33m\u001b[0m\u001b[0m\n\u001b[1;32m----> 5\u001b[1;33m     \u001b[0mminimo\u001b[0m \u001b[1;33m=\u001b[0m \u001b[0mlista_ajustada\u001b[0m\u001b[1;33m[\u001b[0m\u001b[1;36m0\u001b[0m\u001b[1;33m]\u001b[0m\u001b[1;33m\u001b[0m\u001b[1;33m\u001b[0m\u001b[0m\n\u001b[0m\u001b[0;32m      6\u001b[0m     \u001b[0mmaximo\u001b[0m \u001b[1;33m=\u001b[0m \u001b[1;34m''\u001b[0m\u001b[1;33m\u001b[0m\u001b[1;33m\u001b[0m\u001b[0m\n\u001b[0;32m      7\u001b[0m     \u001b[0mmaximo\u001b[0m \u001b[1;33m=\u001b[0m \u001b[0mlista_ajustada\u001b[0m\u001b[1;33m[\u001b[0m\u001b[0mlen\u001b[0m\u001b[1;33m(\u001b[0m\u001b[0mlista_ajustada\u001b[0m\u001b[1;33m)\u001b[0m\u001b[1;33m-\u001b[0m\u001b[1;36m1\u001b[0m\u001b[1;33m]\u001b[0m\u001b[1;33m\u001b[0m\u001b[1;33m\u001b[0m\u001b[0m\n",
      "\u001b[1;31mTypeError\u001b[0m: 'NoneType' object is not subscriptable"
     ]
    }
   ],
   "source": [
    "import numpy as np\n",
    "teste = [2,4,6,12,31,54,1,8,11,65,87]\n",
    "lista_min_max(teste)\n"
   ]
  },
  {
   "cell_type": "markdown",
   "id": "1725db74",
   "metadata": {},
   "source": [
    "## 4\n",
    "Demonstre a correlação entre todas as colunas do dataset. Qual é a coluna com maior correlação positiva com 'potability'? Desconsidere a correlação com ela mesma (valor 1.0)."
   ]
  },
  {
   "cell_type": "code",
   "execution_count": 1,
   "id": "3c648f76",
   "metadata": {
    "ExecuteTime": {
     "end_time": "2021-08-05T19:47:15.478933Z",
     "start_time": "2021-08-05T19:46:54.877732Z"
    }
   },
   "outputs": [],
   "source": [
    "import pandas as pd\n",
    "\n",
    "df = pd.read_csv('water_potability.csv', sep=';')\n"
   ]
  },
  {
   "cell_type": "code",
   "execution_count": 6,
   "id": "4b406fcf",
   "metadata": {
    "ExecuteTime": {
     "end_time": "2021-08-05T19:59:35.883557Z",
     "start_time": "2021-08-05T19:59:35.872585Z"
    },
    "scrolled": false
   },
   "outputs": [],
   "source": [
    "corr = df.corr()"
   ]
  },
  {
   "cell_type": "code",
   "execution_count": 10,
   "id": "13f98f2f",
   "metadata": {
    "ExecuteTime": {
     "end_time": "2021-08-05T20:07:51.522314Z",
     "start_time": "2021-08-05T20:07:51.503836Z"
    }
   },
   "outputs": [
    {
     "ename": "SyntaxError",
     "evalue": "invalid syntax (<ipython-input-10-fe4b06cb3f47>, line 1)",
     "output_type": "error",
     "traceback": [
      "\u001b[1;36m  File \u001b[1;32m\"<ipython-input-10-fe4b06cb3f47>\"\u001b[1;36m, line \u001b[1;32m1\u001b[0m\n\u001b[1;33m    df['Potability'].corr(df[])\u001b[0m\n\u001b[1;37m                             ^\u001b[0m\n\u001b[1;31mSyntaxError\u001b[0m\u001b[1;31m:\u001b[0m invalid syntax\n"
     ]
    }
   ],
   "source": []
  }
 ],
 "metadata": {
  "kernelspec": {
   "display_name": "Python 3",
   "language": "python",
   "name": "python3"
  },
  "language_info": {
   "codemirror_mode": {
    "name": "ipython",
    "version": 3
   },
   "file_extension": ".py",
   "mimetype": "text/x-python",
   "name": "python",
   "nbconvert_exporter": "python",
   "pygments_lexer": "ipython3",
   "version": "3.8.8"
  }
 },
 "nbformat": 4,
 "nbformat_minor": 5
}
